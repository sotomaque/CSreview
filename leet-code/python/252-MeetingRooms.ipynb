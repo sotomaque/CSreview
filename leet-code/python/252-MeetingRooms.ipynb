{
 "cells": [
  {
   "cell_type": "markdown",
   "metadata": {},
   "source": [
    "#### Meeting Room\n",
    "\n",
    "##### Description:\n",
    "```\n",
    "  Given an array of meeting time intervals where intervals[i] = [starti, endi],\n",
    "  determine if a person could attend all meetings\n",
    "```"
   ]
  },
  {
   "attachments": {},
   "cell_type": "markdown",
   "metadata": {},
   "source": [
    "This is esentially an overlapping interval problem.\n",
    "If we have any overlapping interval, we return false,\n",
    "otherwise we return true."
   ]
  },
  {
   "cell_type": "code",
   "execution_count": 1,
   "metadata": {},
   "outputs": [],
   "source": [
    "def meetingRooms(nums):\n",
    "  # sort by start time (ascending order)\n",
    "  nums.sort(key=lambda x: x[0])\n",
    "\n",
    "  # check if end time of previous meeting is less than start time of current meeting\n",
    "  for i in range(1, len(nums)):\n",
    "    # if so, we know we have a collision and can return false\n",
    "    if nums[i][0] < nums[i-1][1]:\n",
    "      return False\n",
    "\n",
    "  # if we make it all the way through the loop, we know there are no collisions\n",
    "  # and can return true\n",
    "  return True"
   ]
  },
  {
   "attachments": {},
   "cell_type": "markdown",
   "metadata": {},
   "source": [
    "Input: intervals = [[0,30],[5,10],[15,20]]\n",
    "Output: false\n",
    "\n",
    "Input: intervals = [[7,10],[2,4]]\n",
    "Output: true"
   ]
  },
  {
   "cell_type": "code",
   "execution_count": 3,
   "metadata": {},
   "outputs": [
    {
     "name": "stdout",
     "output_type": "stream",
     "text": [
      "False\n",
      "True\n"
     ]
    }
   ],
   "source": [
    "print(meetingRooms([[0,30],[5,10],[15,20]]))\n",
    "print(meetingRooms([[7,10],[2,4]]))"
   ]
  },
  {
   "attachments": {},
   "cell_type": "markdown",
   "metadata": {},
   "source": [
    "Time Complexity: \n",
    "  - sorting: O(nlogn)\n",
    "  - checking (for loop): O(n)\n",
    "  - total: O(nlogn)\n",
    "\n",
    "Space Complexity: O(1)\n",
    "  - we are not using any extra space\n",
    "  - therefore space complexity is constant = O(1)"
   ]
  }
 ],
 "metadata": {
  "kernelspec": {
   "display_name": "Python 3",
   "language": "python",
   "name": "python3"
  },
  "language_info": {
   "codemirror_mode": {
    "name": "ipython",
    "version": 3
   },
   "file_extension": ".py",
   "mimetype": "text/x-python",
   "name": "python",
   "nbconvert_exporter": "python",
   "pygments_lexer": "ipython3",
   "version": "3.11.2"
  },
  "orig_nbformat": 4
 },
 "nbformat": 4,
 "nbformat_minor": 2
}
