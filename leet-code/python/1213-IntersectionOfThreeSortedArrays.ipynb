{
 "cells": [
  {
   "attachments": {},
   "cell_type": "markdown",
   "metadata": {},
   "source": [
    "#### Intersection of Three Sorted Arrays\n",
    "\n",
    "Given three integer arrays `arr1`, `arr2` and `arr3` sorted in strictly increasing order, return a sorted array of only the integers that appeared in **all** three arrays."
   ]
  },
  {
   "attachments": {},
   "cell_type": "markdown",
   "metadata": {},
   "source": [
    "Lets start with two sorted arrays\n",
    "i.e.\n",
    "Input: \n",
    "A1 = [2, 3, 3, 5, 5, 6, 7, 7, 8, 12]\n",
    "A2 = [5, 5, 6, 8, 8, 9, 10, 10]\n",
    "\n",
    "output: [5, 6, 8]\n",
    "\n",
    "(note that no duplicates are present in the arrays)"
   ]
  },
  {
   "attachments": {},
   "cell_type": "markdown",
   "metadata": {},
   "source": [
    "Brute force method:\n",
    "- take an element from first array\n",
    "- do a linear scan in the second list\n",
    "O(N^2) time complexiy but we dont call it N^2 because they are two diff lists and we\n",
    "dont know their relative sizes, so we call it M*N\n",
    "\n",
    "- Given inputs are sorted, we can use a binary search to speed up the search\n",
    "\n",
    "i.e.\n",
    "Option 1:\n",
    "  - for every element in array 1 we do a binary search in array 2\n",
    "  - O (M * log N)\n",
    "\n",
    "Option 2:\n",
    "  - for every element in array 2 we do a binary search in array 1\n",
    "  - O (N * log M)\n",
    "\n",
    "if N > M, then option 1 is better, else option 2 is better"
   ]
  }
 ],
 "metadata": {
  "language_info": {
   "name": "python"
  },
  "orig_nbformat": 4
 },
 "nbformat": 4,
 "nbformat_minor": 2
}
