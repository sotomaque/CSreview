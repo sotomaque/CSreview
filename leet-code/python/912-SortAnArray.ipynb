{
 "cells": [
  {
   "attachments": {},
   "cell_type": "markdown",
   "metadata": {},
   "source": [
    "#### Sort an Array\n",
    "\n",
    "##### Description:\n",
    "```\n",
    "Given an array of integers, sort the array in ascending order.\n",
    "```"
   ]
  },
  {
   "attachments": {},
   "cell_type": "markdown",
   "metadata": {},
   "source": [
    "Example 1:\n",
    "  Input: [5, 2, 3, 1]\n",
    "  Output: [1, 2, 3, 5]\n",
    "\n",
    "Example 2:\n",
    "  Input: [5, 1, 1, 2, 0, 0]\n",
    "  Output: [0, 0, 1, 1, 2, 5]"
   ]
  },
  {
   "attachments": {},
   "cell_type": "markdown",
   "metadata": {},
   "source": [
    "Good Starting Questions:\n",
    "  - do we need a stable sorting algorithm?\n",
    "    - stability i.e. if i have two 1's in my input, I might care about their relative order,\n",
    "    and want the first one in the input to be the first one in the output\n",
    "  - do we have any constraints on space complexity?\n",
    "  - do we have any constraints on time complexity?\n",
    "  - do we have any constraints on the input data? (i.e. negative numbers, etc.)\n",
    "  - if N is small, i could go with N^2 algorithms (insertion sort, selection sort, bubble sort)\n",
    "  - if N is large, i could go with NlogN algorithms (merge sort, quick sort, heap sort)"
   ]
  },
  {
   "cell_type": "code",
   "execution_count": 1,
   "metadata": {},
   "outputs": [],
   "source": [
    "# Difficulty: Medium\n",
    "# Approach: Merge Sort\n",
    "\n",
    "def mergeSort(nums):\n",
    "  # Base case\n",
    "  if len(nums) <= 1:\n",
    "    return nums\n",
    "\n",
    "  # Recursive case\n",
    "  mid = len(nums) // 2\n",
    "  left = mergeSort(nums[:mid])\n",
    "  right = mergeSort(nums[mid:])\n",
    "  return merge(left, right)\n",
    "\n",
    "def merge(left, right):\n",
    "  result = []\n",
    "  i = j = 0\n",
    "  while i < len(left) and j < len(right):\n",
    "    if left[i] < right[j]:\n",
    "      result.append(left[i])\n",
    "      i += 1\n",
    "    else:\n",
    "      result.append(right[j])\n",
    "      j += 1\n",
    "  result.extend(left[i:])\n",
    "  result.extend(right[j:])\n",
    "  return result"
   ]
  },
  {
   "attachments": {},
   "cell_type": "markdown",
   "metadata": {},
   "source": [
    "find the midpoint\n",
    "sort the left half\n",
    "sort the right half\n",
    "merge the two sorted halves"
   ]
  },
  {
   "cell_type": "code",
   "execution_count": 2,
   "metadata": {},
   "outputs": [
    {
     "name": "stdout",
     "output_type": "stream",
     "text": [
      "[1, 2, 3, 5]\n"
     ]
    }
   ],
   "source": [
    "nums = [5,2,3,1]\n",
    "print(mergeSort(nums))"
   ]
  },
  {
   "cell_type": "markdown",
   "metadata": {},
   "source": [
    "Time Complexity:\n",
    "  - O(n log n) - best case, average case, worst case\n",
    "\n",
    "Space Complexity:\n",
    "  - O(n) - best case, average case, worst case"
   ]
  },
  {
   "cell_type": "code",
   "execution_count": 7,
   "metadata": {},
   "outputs": [],
   "source": [
    "import random\n",
    "\n",
    "\n",
    "def quickSort(nums):\n",
    "  return qSort(nums, 0, len(nums) - 1)\n",
    "\n",
    "def qSort(nums, start, end):\n",
    "  # base case\n",
    "  if start >= end:\n",
    "    return nums\n",
    "\n",
    "  # could simply pick first element as pivot\n",
    "  # but better to get a random number between start and end\n",
    "  pivotIndex = pickPivot(start, end)\n",
    "\n",
    "  # after partition call pivot is in correct position\n",
    "  # and all elements to left are smaller and all to right are larger\n",
    "  pivotIndex = partition(nums, start, end, pivotIndex)\n",
    "\n",
    "  # recursively call quicksort on left and right\n",
    "  qSort(nums, start, pivotIndex - 1)\n",
    "  qSort(nums, pivotIndex + 1, end)\n",
    "\n",
    "# return value from input between start and end\n",
    "def pickPivot(start, end):\n",
    "  return random.randint(start, end)\n",
    "\n",
    "# partition array around pivot\n",
    "# return index of pivot\n",
    "def partition(nums, start, end, pivotIndex):\n",
    "  pivotValue = nums[pivotIndex]\n",
    "  # swap pivot element (now at start)\n",
    "  nums[pivotIndex], nums[start] = nums[start], nums[pivotIndex]\n",
    "  storeIndex = start\n",
    "  for i in range(start, end):\n",
    "    if nums[i] < pivotValue:\n",
    "      nums[i], nums[storeIndex] = nums[storeIndex], nums[i]\n",
    "      storeIndex += 1\n",
    "  nums[storeIndex], nums[end] = nums[end], nums[storeIndex]\n",
    "  return storeIndex\n",
    "\n"
   ]
  },
  {
   "cell_type": "code",
   "execution_count": 8,
   "metadata": {},
   "outputs": [
    {
     "name": "stdout",
     "output_type": "stream",
     "text": [
      "None\n"
     ]
    }
   ],
   "source": [
    "nums = [5,2,3,1]\n",
    "print(quickSort(nums))"
   ]
  },
  {
   "attachments": {},
   "cell_type": "markdown",
   "metadata": {},
   "source": [
    "quick sort:\n",
    "  - pick a pivot\n",
    "  - partition the array around the pivot \n",
    "    - everything to the left of the pivot <= pivot value\n",
    "    - everything to the right of the pivot >= pivot value\n",
    "  - recursively sort the left and right partitions"
   ]
  },
  {
   "attachments": {},
   "cell_type": "markdown",
   "metadata": {},
   "source": [
    "- magic is where we call pickPivot\n",
    "- if we always return the \"start\" or the \"end\" index, then we are opening the door for getting a worst case runtime when given a sorted input array\n",
    "- thats why we want to pick a random index to avoid a worst case (O(n^2)) runtime"
   ]
  },
  {
   "cell_type": "code",
   "execution_count": null,
   "metadata": {},
   "outputs": [],
   "source": [
    "def heapSort(nums):\n",
    "  def heapify(nums, n, i):\n",
    "    largest = i\n",
    "    left = 2 * i + 1\n",
    "    right = 2 * i + 2\n",
    "\n",
    "    if left < n and nums[i] < nums[left]:\n",
    "      largest = left\n",
    "    if right < n and nums[largest] < nums[right]:\n",
    "      largest = right\n",
    "    if largest != i:\n",
    "      nums[i], nums[largest] = nums[largest], nums[i]\n",
    "      heapify(nums, n, largest)\n",
    "\n",
    "  n = len(nums)\n",
    "  for i in range(n // 2 - 1, -1, -1):\n",
    "    heapify(nums, n, i)\n",
    "  for i in range(n - 1, 0, -1):\n",
    "    nums[i], nums[0] = nums[0], nums[i]\n",
    "    heapify(nums, i, 0)"
   ]
  },
  {
   "attachments": {},
   "cell_type": "markdown",
   "metadata": {},
   "source": [
    "heap sort:\n",
    "  - build a heap out of the input array\n",
    "  - repeatedly remove the min element from the heap and add it to the output array\n",
    "\n",
    "  i.e. heapSort(array input):\n",
    "        minHeap = BuildMinHeap(input)\n",
    "\n",
    "        while (minHeap is not empty):\n",
    "          result.append(minHeap.extractRoot);\n",
    "\n",
    "// building a heap is O(n)\n",
    "// extractRoot is O(log n), so the loop is O(n log n)"
   ]
  },
  {
   "attachments": {},
   "cell_type": "markdown",
   "metadata": {},
   "source": [
    "- not cache friendly\n",
    "- nLogn best / avg / worst case"
   ]
  }
 ],
 "metadata": {
  "kernelspec": {
   "display_name": "Python 3",
   "language": "python",
   "name": "python3"
  },
  "language_info": {
   "codemirror_mode": {
    "name": "ipython",
    "version": 3
   },
   "file_extension": ".py",
   "mimetype": "text/x-python",
   "name": "python",
   "nbconvert_exporter": "python",
   "pygments_lexer": "ipython3",
   "version": "3.11.2"
  },
  "orig_nbformat": 4
 },
 "nbformat": 4,
 "nbformat_minor": 2
}
