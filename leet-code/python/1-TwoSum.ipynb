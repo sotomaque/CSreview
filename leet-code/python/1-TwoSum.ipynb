{
 "cells": [
  {
   "attachments": {},
   "cell_type": "markdown",
   "metadata": {},
   "source": [
    "#### Two Sum\n",
    "\n",
    "##### Description:\n",
    "```\n",
    "Given an array of integers nums and an integer target, return indices of the two numbers such that they add up to target.\n",
    "You may assume that each input would have exactly one solution, and you may not use the same element twice.\n",
    "You can return the answer in any order.\n",
    "```"
   ]
  },
  {
   "attachments": {},
   "cell_type": "markdown",
   "metadata": {},
   "source": [
    "#### Brute Force way of solving it"
   ]
  },
  {
   "cell_type": "markdown",
   "metadata": {},
   "source": [
    "```\n",
    "iterate through the list\n",
    "    for each element, check if the difference between the target and the element is in the list\n",
    "        if it is, return the index of the element and the index of the difference\n",
    "```\n",
    "\n",
    "\n",
    "in this brute force approach, we are iterating through the list for every value in the list. This is an O(n^2) solution."
   ]
  },
  {
   "attachments": {},
   "cell_type": "markdown",
   "metadata": {},
   "source": [
    "#### Psudo Code:\n",
    "```\n",
    "create a map\n",
    "store key-value pairs in map represeenting\n",
    "  key: number\n",
    "  value: index\n",
    "then loop through the array\n",
    "  check if the map contains the difference between the target and the current number\n",
    "  if it does, return the current index and the index of the difference\n",
    "  else, add the current number to the map\n",
    "```"
   ]
  },
  {
   "cell_type": "code",
   "execution_count": 11,
   "metadata": {},
   "outputs": [],
   "source": [
    "def twoSum(nums, target):\n",
    "    # Create a dictionary to store the indices of the elements\n",
    "    index_map = {}\n",
    "    \n",
    "    # Iterate through the array\n",
    "    for i, num in enumerate(nums):\n",
    "        # Calculate the complement of the current element\n",
    "        complement = target - num\n",
    "        \n",
    "        # Check if the complement is already present in the dictionary\n",
    "        if complement in index_map:\n",
    "            # If it is, return the indices of the two elements\n",
    "            return [index_map[complement], i]\n",
    "        \n",
    "        # Otherwise, add the current element and its index to the dictionary\n",
    "        index_map[num] = i\n",
    "        \n",
    "    # If no solution is found, return an empty list (this should not happen as per the problem statement)\n",
    "    return []"
   ]
  },
  {
   "attachments": {},
   "cell_type": "markdown",
   "metadata": {},
   "source": [
    "building a hash table: O(N)\n",
    "looping through the array looking for target pair: O(N)\n",
    "\n",
    "Overall: O(N)"
   ]
  },
  {
   "cell_type": "code",
   "execution_count": 12,
   "metadata": {},
   "outputs": [
    {
     "data": {
      "text/plain": [
       "[0, 2]"
      ]
     },
     "execution_count": 12,
     "metadata": {},
     "output_type": "execute_result"
    }
   ],
   "source": [
    "twoSum([3, 2, 4], 7)"
   ]
  },
  {
   "attachments": {},
   "cell_type": "markdown",
   "metadata": {},
   "source": [
    "Three Sum Problem"
   ]
  },
  {
   "cell_type": "code",
   "execution_count": 13,
   "metadata": {},
   "outputs": [
    {
     "data": {
      "text/plain": [
       "[2, 3, 4]"
      ]
     },
     "execution_count": 13,
     "metadata": {},
     "output_type": "execute_result"
    }
   ],
   "source": [
    "def threeSumProblem(nums, target):\n",
    "  for i, num in enumerate(nums):\n",
    "    complement = target - num\n",
    "    indices = twoSum(nums[i+1:], complement)\n",
    "    if indices:\n",
    "      return [i, i+1+indices[0], i+1+indices[1]]\n",
    "  return []\n",
    "\n",
    "\n",
    "threeSumProblem([3, 2, 4, 5, 6], 15)\n"
   ]
  }
 ],
 "metadata": {
  "kernelspec": {
   "display_name": "Python 3",
   "language": "python",
   "name": "python3"
  },
  "language_info": {
   "codemirror_mode": {
    "name": "ipython",
    "version": 3
   },
   "file_extension": ".py",
   "mimetype": "text/x-python",
   "name": "python",
   "nbconvert_exporter": "python",
   "pygments_lexer": "ipython3",
   "version": "3.11.2"
  },
  "orig_nbformat": 4
 },
 "nbformat": 4,
 "nbformat_minor": 2
}
